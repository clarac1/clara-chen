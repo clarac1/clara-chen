{
 "cells": [
  {
   "cell_type": "code",
   "execution_count": null,
   "id": "b18cb45d",
   "metadata": {},
   "outputs": [],
   "source": [
    "! pip install bqplot\n",
    "! pip install @jupyter-widgets/jupyterlab-manager"
   ]
  },
  {
   "cell_type": "code",
   "execution_count": 31,
   "id": "543f7386",
   "metadata": {},
   "outputs": [],
   "source": [
    "import bqplot as bq\n",
    "import numpy as np\n",
    "import ipywidgets"
   ]
  },
  {
   "cell_type": "markdown",
   "id": "48158d77",
   "metadata": {},
   "source": [
    "random line plot"
   ]
  },
  {
   "cell_type": "code",
   "execution_count": 34,
   "id": "dea3c4a4",
   "metadata": {},
   "outputs": [
    {
     "data": {
      "text/plain": [
       "array([0.99857299, 0.08022634, 0.88477764, 0.70952153, 0.40402983,\n",
       "       0.63321991, 0.49810912, 0.80192078, 0.47705665, 0.52577455,\n",
       "       0.48726076, 0.24885154, 0.99668065, 0.29970528, 0.16593989,\n",
       "       0.44734086, 0.44365312, 0.56096895, 0.830232  , 0.04000974,\n",
       "       0.68028964, 0.75890429, 0.55873907, 0.70447295, 0.4869531 ,\n",
       "       0.97552851, 0.83210546, 0.27989741, 0.27342651, 0.90976056,\n",
       "       0.71813103, 0.82750205, 0.23447654, 0.07089641, 0.36282974,\n",
       "       0.2671478 , 0.55728054, 0.1573526 , 0.7997458 , 0.66478708,\n",
       "       0.21972069, 0.15661359, 0.61564983, 0.57160318, 0.02473283,\n",
       "       0.49919689, 0.12970751, 0.81972409, 0.17699361, 0.687258  ,\n",
       "       0.84960447, 0.92923198, 0.43980186, 0.35571764, 0.83998727,\n",
       "       0.19040641, 0.88875903, 0.50013985, 0.68983108, 0.0468812 ,\n",
       "       0.59827066, 0.51723429, 0.32772847, 0.31355994, 0.80783724,\n",
       "       0.54183006, 0.05214998, 0.34760874, 0.48693676, 0.16986326,\n",
       "       0.21511188, 0.43214568, 0.13889798, 0.65198527, 0.63544742,\n",
       "       0.95733545, 0.25521654, 0.16106057, 0.32874998, 0.61135169,\n",
       "       0.63081602, 0.93473409, 0.76760279, 0.1896999 , 0.80464315,\n",
       "       0.6967821 , 0.60806121, 0.58994379, 0.86848864, 0.32315868,\n",
       "       0.78251279, 0.28461122, 0.36592785, 0.56675981, 0.89377675,\n",
       "       0.21358581, 0.52512693, 0.50055106, 0.13730004, 0.06703497])"
      ]
     },
     "execution_count": 34,
     "metadata": {},
     "output_type": "execute_result"
    }
   ],
   "source": [
    "x = np.arange(100)\n",
    "y = np.random.random(100)\n",
    "x\n",
    "y"
   ]
  },
  {
   "cell_type": "code",
   "execution_count": 36,
   "id": "8442ba15",
   "metadata": {},
   "outputs": [],
   "source": [
    "x_sc = bqplot.LinearScale()\n",
    "y_sc = bqplot.LinearScale()"
   ]
  },
  {
   "cell_type": "code",
   "execution_count": 15,
   "id": "b1ea4124",
   "metadata": {},
   "outputs": [],
   "source": [
    "lines = bqplot.Lines(x=x, y=y, scales = {'x':x_sc, 'y':y_sc})"
   ]
  },
  {
   "cell_type": "code",
   "execution_count": 16,
   "id": "c1cc1691",
   "metadata": {},
   "outputs": [],
   "source": [
    "ax_x = bqplot.Axis(scale=x_sc, label='X Value')\n",
    "ax_y = bqplot.Axis(scale=y_sc, label='Y Value', orientation='vertical')"
   ]
  },
  {
   "cell_type": "code",
   "execution_count": 46,
   "id": "850986bb",
   "metadata": {},
   "outputs": [
    {
     "data": {
      "application/vnd.jupyter.widget-view+json": {
       "model_id": "ef0b1d7e8e5241bbb7f3332a760aec20",
       "version_major": 2,
       "version_minor": 0
      },
      "text/plain": [
       "Figure(axes=[Axis(label='X Value', scale=LinearScale(), side='bottom'), Axis(label='Y Value', orientation='ver…"
      ]
     },
     "metadata": {},
     "output_type": "display_data"
    }
   ],
   "source": [
    "line_plot = bqplot.Figure(marks=[lines], axes=[ax_x, ax_y])\n",
    "line_plot"
   ]
  },
  {
   "cell_type": "code",
   "execution_count": 47,
   "id": "09e8948a",
   "metadata": {},
   "outputs": [
    {
     "data": {
      "application/vnd.jupyter.widget-view+json": {
       "model_id": "ac2101465b044b65b19709546889810a",
       "version_major": 2,
       "version_minor": 0
      },
      "text/plain": [
       "Figure(axes=[Axis(label='X Value', scale=LinearScale(), side='bottom'), Axis(label='Y Value', orientation='ver…"
      ]
     },
     "metadata": {},
     "output_type": "display_data"
    }
   ],
   "source": [
    "pz = bqplot.interacts.PanZoom( scales = {'x': [x_sc], 'y': [y_sc]})\n",
    "line_plot = bqplot.Figure(marks=[lines], axes=[ax_x, ax_y], interaction=pz)\n",
    "line_plot"
   ]
  },
  {
   "cell_type": "markdown",
   "id": "81577e3b",
   "metadata": {},
   "source": [
    "Random scatter plot"
   ]
  },
  {
   "cell_type": "code",
   "execution_count": 48,
   "id": "398070ac",
   "metadata": {},
   "outputs": [
    {
     "data": {
      "text/plain": [
       "array([6.58487561e-01, 7.10320828e-01, 7.34140048e-01, 1.79445818e-01,\n",
       "       9.39605085e-01, 2.61346262e-01, 5.05694904e-01, 7.35057049e-04,\n",
       "       3.00873267e-01, 1.43846906e-01, 4.93496658e-02, 3.99702380e-01,\n",
       "       4.36117115e-01, 1.22326152e-01, 4.42796372e-01, 5.40128298e-01,\n",
       "       4.13594422e-01, 7.41948088e-01, 7.49800422e-01, 2.39969587e-01,\n",
       "       7.84313386e-01, 8.68173177e-01, 3.50003505e-01, 1.92905497e-01,\n",
       "       3.15096062e-01, 9.76770935e-01, 4.94701575e-01, 7.03992405e-03,\n",
       "       1.41112468e-01, 4.73885597e-01, 9.33431731e-01, 7.93493444e-01,\n",
       "       5.32619290e-01, 1.51709172e-02, 8.00759843e-02, 7.23220490e-01,\n",
       "       1.54727036e-01, 2.80991546e-01, 6.18369121e-01, 6.80033238e-01,\n",
       "       9.94084182e-01, 7.75978570e-02, 7.26949202e-01, 9.84752527e-01,\n",
       "       8.80409260e-01, 9.66306263e-01, 2.48365528e-01, 3.29633091e-01,\n",
       "       6.92427945e-01, 3.00006206e-01, 9.72574742e-01, 3.11141154e-01,\n",
       "       8.75459014e-01, 9.79103191e-01, 9.79584674e-01, 4.02312462e-01,\n",
       "       3.87915856e-01, 7.60159954e-01, 1.15886159e-02, 7.68673879e-01,\n",
       "       8.37409650e-02, 9.51509657e-01, 8.55655870e-01, 8.17857469e-02,\n",
       "       2.70985283e-01, 4.32824487e-01, 9.03821775e-01, 1.75530444e-01,\n",
       "       3.23797129e-03, 5.86718077e-02, 4.45317433e-01, 2.34521454e-01,\n",
       "       3.58920652e-01, 4.30413112e-01, 8.19225431e-02, 1.78816221e-01,\n",
       "       2.45584449e-02, 2.21928707e-01, 3.03002833e-01, 5.43785607e-01,\n",
       "       7.90606774e-01, 5.55166047e-02, 7.48793380e-01, 7.58127501e-01,\n",
       "       5.91142576e-01, 6.54113915e-01, 9.22053452e-01, 5.96143537e-01,\n",
       "       5.77645224e-01, 4.75133333e-01, 8.07566254e-01, 5.89686736e-01,\n",
       "       7.68316091e-01, 8.21905664e-01, 9.38358622e-01, 9.01392972e-01,\n",
       "       2.63135637e-01, 6.60751372e-02, 2.79206689e-01, 6.46823056e-01])"
      ]
     },
     "execution_count": 48,
     "metadata": {},
     "output_type": "execute_result"
    }
   ],
   "source": [
    "x = np.random.random(100)\n",
    "y = np.random.random(100)\n",
    "x\n",
    "y"
   ]
  },
  {
   "cell_type": "code",
   "execution_count": 49,
   "id": "68e2e374",
   "metadata": {},
   "outputs": [],
   "source": [
    "x_sc = bqplot.LinearScale()\n",
    "y_sc = bqplot.LinearScale()"
   ]
  },
  {
   "cell_type": "code",
   "execution_count": 50,
   "id": "260ef1d2",
   "metadata": {},
   "outputs": [],
   "source": [
    "ax_x = bqplot.Axis(scale = x_sc, label=\"X\")\n",
    "ax_y = bqplot.Axis(scale = y_sc, label=\"Y\", orientation='vertical')"
   ]
  },
  {
   "cell_type": "code",
   "execution_count": 51,
   "id": "6a716baf",
   "metadata": {},
   "outputs": [],
   "source": [
    "scatters = bqplot.Scatter(x = x, y = y, scales={'x':x_sc, 'y':y_sc})\n",
    "selector = bqplot.interacts.FastIntervalSelector(scale=x_sc, marks=[scatters])"
   ]
  },
  {
   "cell_type": "code",
   "execution_count": 52,
   "id": "5faba6ba",
   "metadata": {},
   "outputs": [
    {
     "data": {
      "application/vnd.jupyter.widget-view+json": {
       "model_id": "03b5d8fb0e574bba96235d13eb17e3e3",
       "version_major": 2,
       "version_minor": 0
      },
      "text/plain": [
       "Figure(axes=[Axis(label='X', scale=LinearScale(), side='bottom'), Axis(label='Y', orientation='vertical', scal…"
      ]
     },
     "metadata": {},
     "output_type": "display_data"
    }
   ],
   "source": [
    "scatter_plot = bqplot.Figure(marks=[scatters], axes=[ax_x, ax_y], interaction = selector)\n",
    "scatter_plot"
   ]
  },
  {
   "cell_type": "code",
   "execution_count": 58,
   "id": "76f3a6b9",
   "metadata": {},
   "outputs": [],
   "source": [
    "selector.selected\n",
    "scatters.unselected_style = {'opacity':0.8} # a little see-through when not selected\n",
    "scatters.selected_style={'fill':'red', 'stroke':'yellow'}"
   ]
  },
  {
   "cell_type": "code",
   "execution_count": 59,
   "id": "e60e86d8",
   "metadata": {},
   "outputs": [
    {
     "data": {
      "application/vnd.jupyter.widget-view+json": {
       "model_id": "03b5d8fb0e574bba96235d13eb17e3e3",
       "version_major": 2,
       "version_minor": 0
      },
      "text/plain": [
       "Figure(axes=[Axis(label='X', scale=LinearScale(), side='bottom'), Axis(label='Y', orientation='vertical', scal…"
      ]
     },
     "metadata": {},
     "output_type": "display_data"
    }
   ],
   "source": [
    "scatter_plot"
   ]
  },
  {
   "cell_type": "markdown",
   "id": "392abbc9",
   "metadata": {},
   "source": [
    "Sine Wave"
   ]
  },
  {
   "cell_type": "code",
   "execution_count": 53,
   "id": "6f6c3ddc",
   "metadata": {},
   "outputs": [],
   "source": [
    "x = np.linspace(-10, 10, 200)\n",
    "y = np.sin(x)"
   ]
  },
  {
   "cell_type": "code",
   "execution_count": 54,
   "id": "e04e9208",
   "metadata": {},
   "outputs": [],
   "source": [
    "xs = bq.LinearScale()\n",
    "ys = bq.LinearScale()"
   ]
  },
  {
   "cell_type": "code",
   "execution_count": 55,
   "id": "b0955233",
   "metadata": {},
   "outputs": [],
   "source": [
    "line = bq.Lines(x=x, y=y, scales={\"x\": xs, \"y\": ys})"
   ]
  },
  {
   "cell_type": "code",
   "execution_count": 56,
   "id": "a4101e94",
   "metadata": {},
   "outputs": [],
   "source": [
    "xax = bq.Axis(scale=xs, grid_lines=\"solid\", label=\"X\")\n",
    "yax = bq.Axis(scale=ys, orientation=\"vertical\", grid_lines=\"solid\")"
   ]
  },
  {
   "cell_type": "code",
   "execution_count": 57,
   "id": "f9757644",
   "metadata": {},
   "outputs": [
    {
     "data": {
      "application/vnd.jupyter.widget-view+json": {
       "model_id": "102f84821ade439e8396ff2d34ac6e61",
       "version_major": 2,
       "version_minor": 0
      },
      "text/plain": [
       "Figure(axes=[Axis(label='X', scale=LinearScale(), side='bottom'), Axis(orientation='vertical', scale=LinearSca…"
      ]
     },
     "metadata": {},
     "output_type": "display_data"
    }
   ],
   "source": [
    "sine_wave = bq.Figure(marks=[line], axes=[xax, yax], title=\"Sine\")\n",
    "sine_wave"
   ]
  },
  {
   "cell_type": "code",
   "execution_count": null,
   "id": "68f546a7",
   "metadata": {},
   "outputs": [],
   "source": []
  }
 ],
 "metadata": {
  "kernelspec": {
   "display_name": "Python 3 (ipykernel)",
   "language": "python",
   "name": "python3"
  },
  "language_info": {
   "codemirror_mode": {
    "name": "ipython",
    "version": 3
   },
   "file_extension": ".py",
   "mimetype": "text/x-python",
   "name": "python",
   "nbconvert_exporter": "python",
   "pygments_lexer": "ipython3",
   "version": "3.9.13"
  }
 },
 "nbformat": 4,
 "nbformat_minor": 5
}
